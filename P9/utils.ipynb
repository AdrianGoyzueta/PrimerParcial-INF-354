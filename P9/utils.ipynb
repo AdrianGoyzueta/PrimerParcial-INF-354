{
 "cells": [
  {
   "cell_type": "code",
   "execution_count": 3,
   "metadata": {},
   "outputs": [
    {
     "name": "stdout",
     "output_type": "stream",
     "text": [
      "RD DL LU DL DR UR RD UL DR UR LD LU LU UR LU RD\n",
      "LU DL UR UR LU DL RD RD DL RD LU UL DR RU LU DR\n",
      "RD RU UL UR RD RU DL LD DR RD UR LU LU UL RU RD\n",
      "DL UL RU RU LU LU DL UR UR DL DR LU UL UR UR UL\n",
      "UR LD LD LU LD DL DL UL RU DL DL RD LD RD RD UL\n",
      "LD RD RD DR UR RD RU DL UR LD LD LU LD UL RU DR\n",
      "DR UR DR LU UR LD DL LU LU LU DL LD LD LD DL DL\n",
      "LU LD LD UR LD DR UR LD LU DL LD RD UR UL RD UL\n",
      "RD RD LD DR UL DL UR LU RU DR UR LU LU LD RD UL\n",
      "UL RU DR UL UL RU DR DL LD DL DR RD LU UR DR UL\n"
     ]
    }
   ],
   "source": [
    "import random\n",
    "\n",
    "n = 4\n",
    "genes = ['UR', 'RU', 'RD', 'DR', 'DL', 'LD', 'LU', 'UL']\n",
    "\n",
    "for i in range(10):\n",
    "  print(*random.choices(genes, k=n*n))"
   ]
  }
 ],
 "metadata": {
  "kernelspec": {
   "display_name": "env",
   "language": "python",
   "name": "python3"
  },
  "language_info": {
   "codemirror_mode": {
    "name": "ipython",
    "version": 3
   },
   "file_extension": ".py",
   "mimetype": "text/x-python",
   "name": "python",
   "nbconvert_exporter": "python",
   "pygments_lexer": "ipython3",
   "version": "3.10.0"
  }
 },
 "nbformat": 4,
 "nbformat_minor": 2
}
