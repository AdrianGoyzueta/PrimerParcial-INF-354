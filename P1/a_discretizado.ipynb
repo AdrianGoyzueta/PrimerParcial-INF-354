{
 "cells": [
  {
   "cell_type": "code",
   "execution_count": 1,
   "metadata": {},
   "outputs": [],
   "source": [
    "import csv\n",
    "\n",
    "# si el dato es un string vacio, retorna 0, si no, intenta convertirlo a float, si falla, retorna el string\n",
    "def tipo_dato(dato):\n",
    "  if dato == '':\n",
    "    return 0\n",
    "  try:\n",
    "    return float(dato)\n",
    "  except ValueError:\n",
    "    return dato\n",
    "\n",
    "# se lee el csv y se retorna un diccionario con los datos\n",
    "def leer_csv():\n",
    "  with open('./credit_risk_dataset.csv') as f:\n",
    "    reader = csv.DictReader(f)\n",
    "    data = {row: [] for row in reader.fieldnames}\n",
    "    for row in reader:\n",
    "      for key in row:\n",
    "        data[key].append(tipo_dato(row[key]))\n",
    "  return data\n",
    "\n",
    "# cuenta la cantidad de veces que aparece cada elemento de un array en el array\n",
    "def frecuencia(arr):\n",
    "  dic = {}\n",
    "  for i in arr:\n",
    "    if i in dic:\n",
    "      dic[i] += 1\n",
    "    else:\n",
    "      dic[i] = 1\n",
    "  return tuple(dic.items())\n",
    "\n",
    "# dado un array de numeros, discretizar dicho array en n intervalos\n",
    "def discretizar(arr, n):\n",
    "  maximo = max(arr)\n",
    "  minimo = min(arr)\n",
    "  rango = maximo - minimo\n",
    "  intervalo = rango / n\n",
    "  intervalos = [[(round(minimo + i * intervalo, 3), round(minimo + (i+1) * intervalo, 3)), 0] for i in range(n)]\n",
    "  for num in arr:\n",
    "    for i in range(n-1, -1, -1):\n",
    "      if intervalos[i][0][0] <= num:\n",
    "        intervalos[i][1] += 1\n",
    "        break\n",
    "  return intervalos\n",
    "\n",
    "#\n",
    "def percentil_frecuencia(arr, p):\n",
    "  ordenado = sorted(arr, key=lambda x: x[1])\n",
    "  if p == 1:\n",
    "    return ordenado[-1][0]\n",
    "  pos = len(arr) * p\n",
    "  return ordenado[int(pos)][0]\n",
    "  \n",
    "# devuelve el percentil de un dato en un array discretizado\n",
    "def percentil_discretizacion(arr, p):\n",
    "  N = sum(f for _, f in arr)\n",
    "  w = round(arr[0][0][1] - arr[0][0][0], 3)\n",
    "  F = F_a = 0 \n",
    "  for (i, _), f in arr:\n",
    "    F_a = F\n",
    "    F += f\n",
    "    if F >= N * p:\n",
    "      return i + w * (N * p - F_a) / f\n",
    "\n",
    "\n",
    "dataset = leer_csv()\n",
    "\n",
    "person_age = discretizar(dataset['person_age'], 5)\n",
    "person_income = discretizar(dataset['person_income'], 5)\n",
    "person_home_ownership = frecuencia(dataset['person_home_ownership'])\n",
    "person_emp_length = discretizar(dataset['person_emp_length'], 5)\n",
    "loan_intent = frecuencia(dataset['loan_intent'])\n",
    "loan_grade = frecuencia(dataset['loan_grade'])\n",
    "loan_amnt = discretizar(dataset['loan_amnt'], 5)\n",
    "loan_int_rate = discretizar(dataset['loan_int_rate'], 5)\n",
    "loan_status = frecuencia(dataset['loan_status'])\n",
    "loan_percent_income = discretizar(dataset['loan_percent_income'], 5)\n",
    "cb_person_default_on_file = frecuencia(dataset['cb_person_default_on_file'])\n",
    "cb_person_cred_hist_length = discretizar(dataset['cb_person_cred_hist_length'], 5)"
   ]
  },
  {
   "cell_type": "code",
   "execution_count": 2,
   "metadata": {},
   "outputs": [
    {
     "name": "stdout",
     "output_type": "stream",
     "text": [
      "El ultimo quartil de la columna person_age es: 39.0442349391911\n"
     ]
    }
   ],
   "source": [
    "# ultimo quartil person_age\n",
    "\n",
    "print(f\"El ultimo quartil de la columna person_age es: {percentil_discretizacion(person_age, 0.75)}\")"
   ]
  },
  {
   "cell_type": "markdown",
   "metadata": {},
   "source": [
    "El ultimo cuartial de person_age (39.0442349391911), representa que el 75% de los valores de la columna estan por debajo de 39.0442349391911"
   ]
  },
  {
   "cell_type": "code",
   "execution_count": 3,
   "metadata": {},
   "outputs": [
    {
     "name": "stdout",
     "output_type": "stream",
     "text": [
      "El percentil 80 de la columna person_age es: 40.31385060180384\n"
     ]
    }
   ],
   "source": [
    "# percentil 80 de persona_age\n",
    "\n",
    "print(f\"El percentil 80 de la columna person_age es: {percentil_discretizacion(person_age, 0.8)}\")"
   ]
  },
  {
   "cell_type": "markdown",
   "metadata": {},
   "source": [
    "El percentil 80 de person_age, representa que el 80% de los valores de la columna estan por debajo del valor hallado, el cual es: 40.31385060180384"
   ]
  },
  {
   "cell_type": "code",
   "execution_count": 4,
   "metadata": {},
   "outputs": [
    {
     "name": "stdout",
     "output_type": "stream",
     "text": [
      "El percentil 80 de la columna person_income es: 963536.7048349963\n"
     ]
    }
   ],
   "source": [
    "# El percentil 80 de person_income\n",
    "\n",
    "print(f\"El percentil 80 de la columna person_income es: {percentil_discretizacion(person_income, 0.8)}\")"
   ]
  },
  {
   "cell_type": "markdown",
   "metadata": {},
   "source": [
    "El percentil 80 de person_income, representa que el 80% de los valores de la columna estan por debajo del valor hallado, el cual es: 963536.7048349963"
   ]
  },
  {
   "cell_type": "code",
   "execution_count": 5,
   "metadata": {},
   "outputs": [
    {
     "name": "stdout",
     "output_type": "stream",
     "text": [
      "El percentil 80 de la columna person_home_ownership es: RENT\n"
     ]
    }
   ],
   "source": [
    "# El percentil 80 de person_home_ownership\n",
    "\n",
    "print(f\"El percentil 80 de la columna person_home_ownership es: {percentil_frecuencia(person_home_ownership, 0.8)}\")"
   ]
  },
  {
   "cell_type": "markdown",
   "metadata": {},
   "source": [
    "El percentil 80 de , representa que en la posicion equivalente al 80% del total de simbolos diferentes en la columna, se encuentra RENT"
   ]
  },
  {
   "cell_type": "code",
   "execution_count": 6,
   "metadata": {},
   "outputs": [
    {
     "name": "stdout",
     "output_type": "stream",
     "text": [
      "El percentil 80 de la columna person_emp_length es: 19.70055857682736\n"
     ]
    }
   ],
   "source": [
    "# El percentil 80 de person_emp_length\n",
    "\n",
    "print(f\"El percentil 80 de la columna person_emp_length es: {percentil_discretizacion(person_emp_length, 0.8)}\")"
   ]
  },
  {
   "cell_type": "markdown",
   "metadata": {},
   "source": [
    "El percentil 80 de person_emp_length, representa que el 80% de los valores de la columna estan por debajo del valor hallado, el cual es: 19.70055857682736"
   ]
  },
  {
   "cell_type": "code",
   "execution_count": 7,
   "metadata": {},
   "outputs": [
    {
     "name": "stdout",
     "output_type": "stream",
     "text": [
      "El percentil 80 de la columna loan_intent es: MEDICAL\n"
     ]
    }
   ],
   "source": [
    "# El percentil 80 de loan_intent\n",
    "\n",
    "print(f\"El percentil 80 de la columna loan_intent es: {percentil_frecuencia(loan_intent, 0.8)}\")"
   ]
  },
  {
   "cell_type": "markdown",
   "metadata": {},
   "source": [
    "El percentil 80 de loan_intent, representa que en la posicion equivalente al 80% del total de simbolos diferentes en la columna, se encuentra MEDICAL"
   ]
  },
  {
   "cell_type": "code",
   "execution_count": 8,
   "metadata": {},
   "outputs": [
    {
     "name": "stdout",
     "output_type": "stream",
     "text": [
      "El percentil 80 de la columna loan_grade es: B\n"
     ]
    }
   ],
   "source": [
    "# El percentil 80 de loan_grade\n",
    "\n",
    "print(f\"El percentil 80 de la columna loan_grade es: {percentil_frecuencia(loan_grade, 0.8)}\")"
   ]
  },
  {
   "cell_type": "markdown",
   "metadata": {},
   "source": [
    "El percentil 80 de loan_grade, representa que en la posicion equivalente al 80% del total de simbolos diferentes en la columna, se encuentra B"
   ]
  },
  {
   "cell_type": "code",
   "execution_count": 9,
   "metadata": {},
   "outputs": [
    {
     "name": "stdout",
     "output_type": "stream",
     "text": [
      "El percentil 80 de la columna loan_amnt es: 14611.974973931183\n"
     ]
    }
   ],
   "source": [
    "# El percentil 80 de loan_amnt\n",
    "\n",
    "print(f\"El percentil 80 de la columna loan_amnt es: {percentil_discretizacion(loan_amnt, 0.8)}\")"
   ]
  },
  {
   "cell_type": "markdown",
   "metadata": {},
   "source": [
    "El percentil 80 de loan_amnt, representa que el 80% de los valores de la columna estan por debajo del valor hallado, el cual es: 14611.974973931183"
   ]
  },
  {
   "cell_type": "code",
   "execution_count": 10,
   "metadata": {},
   "outputs": [
    {
     "name": "stdout",
     "output_type": "stream",
     "text": [
      "El percentil 80 de la columna loan_int_rate es: 13.715716868419168\n"
     ]
    }
   ],
   "source": [
    "# El percentil 80 de loan_int_rate\n",
    "\n",
    "print(f\"El percentil 80 de la columna loan_int_rate es: {percentil_discretizacion(loan_int_rate, 0.8)}\")"
   ]
  },
  {
   "cell_type": "markdown",
   "metadata": {},
   "source": [
    "El percentil 80 de loan_int_rate, representa que el 80% de los valores de la columna estan por debajo del valor hallado, el cual es: 13.715716868419168"
   ]
  },
  {
   "cell_type": "code",
   "execution_count": 11,
   "metadata": {},
   "outputs": [
    {
     "name": "stdout",
     "output_type": "stream",
     "text": [
      "El percentil 80 de la columna loan_status es: 0.0\n"
     ]
    }
   ],
   "source": [
    "# El percentil 80 de loan_status\n",
    "\n",
    "print(f\"El percentil 80 de la columna loan_status es: {percentil_frecuencia(loan_status, 0.8)}\")"
   ]
  },
  {
   "cell_type": "markdown",
   "metadata": {},
   "source": [
    "El percentil 80 de loan_status, representa que en la posicion equivalente al 80% del total de simbolos diferentes en la columna, se encuentra 0"
   ]
  },
  {
   "cell_type": "code",
   "execution_count": 12,
   "metadata": {},
   "outputs": [
    {
     "name": "stdout",
     "output_type": "stream",
     "text": [
      "El percentil 80 de la columna loan_percent_income es: 0.27743179310344834\n"
     ]
    }
   ],
   "source": [
    "# El percentil 80 de loan_percent_income\n",
    "\n",
    "print(f\"El percentil 80 de la columna loan_percent_income es: {percentil_discretizacion(loan_percent_income, 0.8)}\")"
   ]
  },
  {
   "cell_type": "markdown",
   "metadata": {},
   "source": [
    "El percentil 80 de loan_percent_income, representa que el 80% de los valores de la columna estan por debajo del valor hallado, el cual es: 0.27743179310344834"
   ]
  },
  {
   "cell_type": "code",
   "execution_count": 13,
   "metadata": {},
   "outputs": [
    {
     "name": "stdout",
     "output_type": "stream",
     "text": [
      "El percentil 80 de la columna cb_person_default_on_file es: N\n"
     ]
    }
   ],
   "source": [
    "# El percentil 80 de cb_person_default_on_file\n",
    "\n",
    "print(f\"El percentil 80 de la columna cb_person_default_on_file es: {percentil_frecuencia(cb_person_default_on_file, 0.8)}\")"
   ]
  },
  {
   "cell_type": "markdown",
   "metadata": {},
   "source": [
    "El percentil 80 de cb_person_default_on_file, representa que en la posicion equivalente al 80% del total de simbolos diferentes en la columna, se encuentra N"
   ]
  },
  {
   "cell_type": "code",
   "execution_count": 14,
   "metadata": {},
   "outputs": [
    {
     "name": "stdout",
     "output_type": "stream",
     "text": [
      "El percentil 80 de la columna cb_person_cred_hist_length es: 9.663040636544475\n"
     ]
    }
   ],
   "source": [
    "# El percentil 80 de cb_person_cred_hist_length\n",
    "\n",
    "print(f\"El percentil 80 de la columna cb_person_cred_hist_length es: {percentil_discretizacion(cb_person_cred_hist_length, 0.8)}\")"
   ]
  },
  {
   "cell_type": "markdown",
   "metadata": {},
   "source": [
    "El percentil 80 de cb_person_cred_hist_length, representa que el 80% de los valores de la columna estan por debajo del valor hallado, el cual es: 9.663040636544475"
   ]
  }
 ],
 "metadata": {
  "kernelspec": {
   "display_name": "env",
   "language": "python",
   "name": "python3"
  },
  "language_info": {
   "codemirror_mode": {
    "name": "ipython",
    "version": 3
   },
   "file_extension": ".py",
   "mimetype": "text/x-python",
   "name": "python",
   "nbconvert_exporter": "python",
   "pygments_lexer": "ipython3",
   "version": "3.10.0"
  }
 },
 "nbformat": 4,
 "nbformat_minor": 2
}
