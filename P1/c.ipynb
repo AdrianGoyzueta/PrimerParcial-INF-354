{
 "cells": [
  {
   "cell_type": "code",
   "execution_count": 19,
   "metadata": {},
   "outputs": [],
   "source": [
    "import pandas as pd\n",
    "import numpy as np\n",
    "\n",
    "dataset = pd.read_csv(\"./credit_risk_dataset.csv\")\n",
    "\n",
    "def media_geometrica(datos):\n",
    "  return np.prod(datos) ** (1/len(datos))"
   ]
  },
  {
   "cell_type": "code",
   "execution_count": 20,
   "metadata": {},
   "outputs": [
    {
     "name": "stdout",
     "output_type": "stream",
     "text": [
      "La media de person_age es: 27.73459992019889\n",
      "La mediana de person_age es: 26.0\n",
      "La moda de person_age es: 23\n",
      "La media geometrica de person_age es: 0.0\n"
     ]
    }
   ],
   "source": [
    "# para person_age\n",
    "\n",
    "print(f\"La media de person_age es: {dataset['person_age'].mean()}\")\n",
    "print(f\"La mediana de person_age es: {dataset['person_age'].median()}\")\n",
    "print(f\"La moda de person_age es: {dataset['person_age'].mode().iloc[0]}\")\n",
    "print(f\"La media geometrica de person_age es: {media_geometrica(dataset['person_age'])}\")"
   ]
  },
  {
   "cell_type": "code",
   "execution_count": 21,
   "metadata": {},
   "outputs": [
    {
     "name": "stdout",
     "output_type": "stream",
     "text": [
      "La media de person_income es: 66074.84846996715\n",
      "La mediana de person_income es: 55000.0\n",
      "La moda de person_income es: 60000\n",
      "La media geometrica de person_income es: 0.0\n"
     ]
    }
   ],
   "source": [
    "# para person_income\n",
    "\n",
    "print(f\"La media de person_income es: {dataset['person_income'].mean()}\")\n",
    "print(f\"La mediana de person_income es: {dataset['person_income'].median()}\")\n",
    "print(f\"La moda de person_income es: {dataset['person_income'].mode().iloc[0]}\")\n",
    "print(f\"La media geometrica de person_income es: {media_geometrica(dataset['person_income'])}\")"
   ]
  },
  {
   "cell_type": "code",
   "execution_count": 28,
   "metadata": {},
   "outputs": [
    {
     "name": "stdout",
     "output_type": "stream",
     "text": [
      "La mediana de person_income es: MORTGAGE\n",
      "La moda de person_home_ownership es: RENT\n"
     ]
    }
   ],
   "source": [
    "# para person_home_ownership\n",
    "\n",
    "frecuencia = dataset['person_home_ownership'].value_counts().reset_index().sort_values(by='count')\n",
    "\n",
    "print(f\"La mediana de person_income es: {frecuencia.iloc[len(frecuencia) // 2, 0]}\")\n",
    "print(f\"La moda de person_home_ownership es: {dataset['person_home_ownership'].mode().iloc[0]}\")\n"
   ]
  },
  {
   "cell_type": "code",
   "execution_count": 29,
   "metadata": {},
   "outputs": [
    {
     "name": "stdout",
     "output_type": "stream",
     "text": [
      "La media de person_emp_length es: 4.789686296787225\n",
      "La mediana de person_emp_length es: 4.0\n",
      "La moda de person_emp_length es: 0.0\n",
      "La media geometrica de person_emp_length es: 0.0\n"
     ]
    }
   ],
   "source": [
    "# para person_emp_length\n",
    "\n",
    "print(f\"La media de person_emp_length es: {dataset['person_emp_length'].mean()}\")\n",
    "print(f\"La mediana de person_emp_length es: {dataset['person_emp_length'].median()}\")\n",
    "print(f\"La moda de person_emp_length es: {dataset['person_emp_length'].mode().iloc[0]}\")\n",
    "print(f\"La media geometrica de person_emp_length es: {media_geometrica(dataset['person_emp_length'])}\")"
   ]
  },
  {
   "cell_type": "code",
   "execution_count": 30,
   "metadata": {},
   "outputs": [
    {
     "name": "stdout",
     "output_type": "stream",
     "text": [
      "La mediana de loan_intent es: VENTURE\n",
      "La moda de loan_intent es: EDUCATION\n"
     ]
    }
   ],
   "source": [
    "# para loan_intent\n",
    "\n",
    "frecuencia = dataset['loan_intent'].value_counts().reset_index().sort_values(by='count')\n",
    "\n",
    "print(f\"La mediana de loan_intent es: {frecuencia.iloc[len(frecuencia) // 2, 0]}\")\n",
    "print(f\"La moda de loan_intent es: {dataset['loan_intent'].mode().iloc[0]}\")"
   ]
  },
  {
   "cell_type": "code",
   "execution_count": 31,
   "metadata": {},
   "outputs": [
    {
     "name": "stdout",
     "output_type": "stream",
     "text": [
      "La mediana de loan_grade es: D\n",
      "La moda de loan_grade es: A\n"
     ]
    }
   ],
   "source": [
    "# para loan_grade\n",
    "\n",
    "frecuencia = dataset['loan_grade'].value_counts().reset_index().sort_values(by='count')\n",
    "\n",
    "print(f\"La mediana de loan_grade es: {frecuencia.iloc[len(frecuencia) // 2, 0]}\")\n",
    "print(f\"La moda de loan_grade es: {dataset['loan_grade'].mode().iloc[0]}\")"
   ]
  },
  {
   "cell_type": "code",
   "execution_count": 32,
   "metadata": {},
   "outputs": [
    {
     "name": "stdout",
     "output_type": "stream",
     "text": [
      "La media de loan_amnt es: 9589.371105859243\n",
      "La mediana de loan_amnt es: 8000.0\n",
      "La moda de loan_amnt es: 10000\n",
      "La media geometrica de loan_amnt es: 0.0\n"
     ]
    }
   ],
   "source": [
    "# para loan_amnt\n",
    "\n",
    "print(f\"La media de loan_amnt es: {dataset['loan_amnt'].mean()}\")\n",
    "print(f\"La mediana de loan_amnt es: {dataset['loan_amnt'].median()}\")\n",
    "print(f\"La moda de loan_amnt es: {dataset['loan_amnt'].mode().iloc[0]}\")\n",
    "print(f\"La media geometrica de loan_amnt es: {media_geometrica(dataset['loan_amnt'])}\")"
   ]
  },
  {
   "cell_type": "code",
   "execution_count": 33,
   "metadata": {},
   "outputs": [
    {
     "name": "stdout",
     "output_type": "stream",
     "text": [
      "La media de loan_int_rate es: 11.011694892245036\n",
      "La mediana de loan_int_rate es: 10.99\n",
      "La moda de loan_int_rate es: 7.51\n",
      "La media geometrica de loan_int_rate es: inf\n"
     ]
    },
    {
     "name": "stderr",
     "output_type": "stream",
     "text": [
      "c:\\Users\\adria\\OneDrive\\Documents\\VSC\\INF-354\\env\\lib\\site-packages\\numpy\\core\\_methods.py:53: RuntimeWarning: overflow encountered in reduce\n",
      "  return umr_prod(a, axis, dtype, out, keepdims, initial, where)\n"
     ]
    }
   ],
   "source": [
    "# para loan_int_rate\n",
    "\n",
    "print(f\"La media de loan_int_rate es: {dataset['loan_int_rate'].mean()}\")\n",
    "print(f\"La mediana de loan_int_rate es: {dataset['loan_int_rate'].median()}\")\n",
    "print(f\"La moda de loan_int_rate es: {dataset['loan_int_rate'].mode().iloc[0]}\")\n",
    "print(f\"La media geometrica de loan_int_rate es: {media_geometrica(dataset['loan_int_rate'])}\")"
   ]
  },
  {
   "cell_type": "code",
   "execution_count": 34,
   "metadata": {},
   "outputs": [
    {
     "name": "stdout",
     "output_type": "stream",
     "text": [
      "La mediana de loan_status es: 0\n",
      "La moda de loan_status es: 0\n"
     ]
    }
   ],
   "source": [
    "# para loan_status\n",
    "\n",
    "frecuencia = dataset['loan_status'].value_counts().reset_index().sort_values(by='count')\n",
    "\n",
    "print(f\"La mediana de loan_status es: {frecuencia.iloc[len(frecuencia) // 2, 0]}\")\n",
    "print(f\"La moda de loan_status es: {dataset['loan_status'].mode().iloc[0]}\")"
   ]
  },
  {
   "cell_type": "code",
   "execution_count": 35,
   "metadata": {},
   "outputs": [
    {
     "name": "stdout",
     "output_type": "stream",
     "text": [
      "La media de loan_percent_income es: 0.1702034928332464\n",
      "La mediana de loan_percent_income es: 0.15\n",
      "La moda de loan_percent_income es: 0.1\n",
      "La media geometrica de loan_percent_income es: 0.0\n"
     ]
    }
   ],
   "source": [
    "# para loan_percent_income\n",
    "\n",
    "print(f\"La media de loan_percent_income es: {dataset['loan_percent_income'].mean()}\")\n",
    "print(f\"La mediana de loan_percent_income es: {dataset['loan_percent_income'].median()}\")\n",
    "print(f\"La moda de loan_percent_income es: {dataset['loan_percent_income'].mode().iloc[0]}\")\n",
    "print(f\"La media geometrica de loan_percent_income es: {media_geometrica(dataset['loan_percent_income'])}\")"
   ]
  },
  {
   "cell_type": "code",
   "execution_count": 36,
   "metadata": {},
   "outputs": [
    {
     "name": "stdout",
     "output_type": "stream",
     "text": [
      "La mediana de cb_person_default_on_file es: N\n",
      "La moda de cb_person_default_on_file es: N\n"
     ]
    }
   ],
   "source": [
    "# para cb_person_default_on_file\n",
    "\n",
    "frecuencia = dataset['cb_person_default_on_file'].value_counts().reset_index().sort_values(by='count')\n",
    "\n",
    "print(f\"La mediana de cb_person_default_on_file es: {frecuencia.iloc[len(frecuencia) // 2, 0]}\")\n",
    "print(f\"La moda de cb_person_default_on_file es: {dataset['cb_person_default_on_file'].mode().iloc[0]}\")"
   ]
  },
  {
   "cell_type": "code",
   "execution_count": 37,
   "metadata": {},
   "outputs": [
    {
     "name": "stdout",
     "output_type": "stream",
     "text": [
      "La media de cb_person_cred_hist_length es: 5.804211043246064\n",
      "La mediana de cb_person_cred_hist_length es: 4.0\n",
      "La moda de cb_person_cred_hist_length es: 2\n",
      "La media geometrica de cb_person_cred_hist_length es: 0.0\n"
     ]
    }
   ],
   "source": [
    "# para cb_person_cred_hist_length\n",
    "\n",
    "print(f\"La media de cb_person_cred_hist_length es: {dataset['cb_person_cred_hist_length'].mean()}\")\n",
    "print(f\"La mediana de cb_person_cred_hist_length es: {dataset['cb_person_cred_hist_length'].median()}\")\n",
    "print(f\"La moda de cb_person_cred_hist_length es: {dataset['cb_person_cred_hist_length'].mode().iloc[0]}\")\n",
    "print(f\"La media geometrica de cb_person_cred_hist_length es: {media_geometrica(dataset['cb_person_cred_hist_length'])}\")"
   ]
  },
  {
   "cell_type": "markdown",
   "metadata": {},
   "source": [
    "De manera general, para cada columna con valores numericos, se utilizara la media ya que esta tiene valores mas altos que los valores de la mediana"
   ]
  }
 ],
 "metadata": {
  "kernelspec": {
   "display_name": "env",
   "language": "python",
   "name": "python3"
  },
  "language_info": {
   "codemirror_mode": {
    "name": "ipython",
    "version": 3
   },
   "file_extension": ".py",
   "mimetype": "text/x-python",
   "name": "python",
   "nbconvert_exporter": "python",
   "pygments_lexer": "ipython3",
   "version": "3.10.0"
  }
 },
 "nbformat": 4,
 "nbformat_minor": 2
}
