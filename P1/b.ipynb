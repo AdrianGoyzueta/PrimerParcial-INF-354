{
 "cells": [
  {
   "cell_type": "code",
   "execution_count": 1,
   "metadata": {},
   "outputs": [],
   "source": [
    "import pandas as pd\n",
    "\n",
    "dataset = pd.read_csv(\"./credit_risk_dataset.csv\")"
   ]
  },
  {
   "cell_type": "code",
   "execution_count": 2,
   "metadata": {},
   "outputs": [
    {
     "name": "stdout",
     "output_type": "stream",
     "text": [
      "El ultimo quartil de la columna person_age es: 30.0\n"
     ]
    }
   ],
   "source": [
    "# ultimo quartil person_age\n",
    "\n",
    "print(f\"El ultimo quartil de la columna person_age es: {dataset['person_age'].quantile(0.75)}\")"
   ]
  },
  {
   "cell_type": "code",
   "execution_count": 3,
   "metadata": {},
   "outputs": [
    {
     "name": "stdout",
     "output_type": "stream",
     "text": [
      "El percentil 80 de la columna person_age es: 32.0\n"
     ]
    }
   ],
   "source": [
    "# percentil 80 de persona_age\n",
    "\n",
    "print(f\"El percentil 80 de la columna person_age es: {dataset['person_age'].quantile(0.8)}\")"
   ]
  },
  {
   "cell_type": "code",
   "execution_count": 43,
   "metadata": {},
   "outputs": [
    {
     "name": "stdout",
     "output_type": "stream",
     "text": [
      "El percentil 80 de la columna person_income es: 86000.0\n"
     ]
    }
   ],
   "source": [
    "# El percentil 80 de person_income\n",
    "\n",
    "print(f\"El percentil 80 de la columna person_income es: {dataset['person_income'].quantile(0.8)}\")"
   ]
  },
  {
   "cell_type": "code",
   "execution_count": 30,
   "metadata": {},
   "outputs": [
    {
     "name": "stdout",
     "output_type": "stream",
     "text": [
      "El percentil 80 de la columna person_home_ownership es: RENT\n"
     ]
    }
   ],
   "source": [
    "# El percentil 80 de person_home_ownership\n",
    "\n",
    "frecuencia = dataset['person_home_ownership'].value_counts().reset_index().sort_values(by='count')\n",
    "\n",
    "print(f\"El percentil 80 de la columna person_home_ownership es: {frecuencia.iloc[int(0.8 * len(frecuencia)), 0]}\")"
   ]
  },
  {
   "cell_type": "code",
   "execution_count": 31,
   "metadata": {},
   "outputs": [
    {
     "name": "stdout",
     "output_type": "stream",
     "text": [
      "El percentil 80 de la columna person_emp_length es: 8.0\n"
     ]
    }
   ],
   "source": [
    "# El percentil 80 de person_emp_length\n",
    "\n",
    "print(f\"El percentil 80 de la columna person_emp_length es: {dataset['person_emp_length'].quantile(0.8)}\")"
   ]
  },
  {
   "cell_type": "code",
   "execution_count": 33,
   "metadata": {},
   "outputs": [
    {
     "name": "stdout",
     "output_type": "stream",
     "text": [
      "El percentil 80 de la columna loan_intent es: MEDICAL\n"
     ]
    }
   ],
   "source": [
    "# El percentil 80 de loan_intent\n",
    "\n",
    "frecuencia = dataset['loan_intent'].value_counts().reset_index().sort_values(by='count')\n",
    "\n",
    "print(f\"El percentil 80 de la columna loan_intent es: {frecuencia.iloc[int(0.8 * len(frecuencia)), 0]}\")"
   ]
  },
  {
   "cell_type": "code",
   "execution_count": 34,
   "metadata": {},
   "outputs": [
    {
     "name": "stdout",
     "output_type": "stream",
     "text": [
      "El percentil 80 de la columna loan_grade es: B\n"
     ]
    }
   ],
   "source": [
    "# El percentil 80 de loan_grade\n",
    "\n",
    "frecuencia = dataset['loan_grade'].value_counts().reset_index().sort_values(by='count')\n",
    "\n",
    "print(f\"El percentil 80 de la columna loan_grade es: {frecuencia.iloc[int(0.8 * len(frecuencia)), 0]}\")"
   ]
  },
  {
   "cell_type": "code",
   "execution_count": 35,
   "metadata": {},
   "outputs": [
    {
     "name": "stdout",
     "output_type": "stream",
     "text": [
      "El percentil 80 de la columna loan_amnt es: 14500.0\n"
     ]
    }
   ],
   "source": [
    "# El percentil 80 de loan_amnt\n",
    "\n",
    "print(f\"El percentil 80 de la columna loan_amnt es: {dataset['loan_amnt'].quantile(0.8)}\")"
   ]
  },
  {
   "cell_type": "code",
   "execution_count": 36,
   "metadata": {},
   "outputs": [
    {
     "name": "stdout",
     "output_type": "stream",
     "text": [
      "El percentil 80 de la columna loan_int_rate es: 13.92\n"
     ]
    }
   ],
   "source": [
    "# El percentil 80 de loan_int_rate\n",
    "\n",
    "print(f\"El percentil 80 de la columna loan_int_rate es: {dataset['loan_int_rate'].quantile(0.8)}\")"
   ]
  },
  {
   "cell_type": "code",
   "execution_count": 37,
   "metadata": {},
   "outputs": [
    {
     "name": "stdout",
     "output_type": "stream",
     "text": [
      "El percentil 80 de la columna loan_status es: 0\n"
     ]
    }
   ],
   "source": [
    "# El percentil 80 de loan_status\n",
    "\n",
    "frecuencia = dataset['loan_status'].value_counts().reset_index().sort_values(by='count')\n",
    "\n",
    "print(f\"El percentil 80 de la columna loan_status es: {frecuencia.iloc[int(0.8 * len(frecuencia)), 0]}\")"
   ]
  },
  {
   "cell_type": "code",
   "execution_count": 38,
   "metadata": {},
   "outputs": [
    {
     "name": "stdout",
     "output_type": "stream",
     "text": [
      "El percentil 80 de la columna loan_percent_income es: 0.25\n"
     ]
    }
   ],
   "source": [
    "# El percentil 80 de loan_percent_income\n",
    "\n",
    "print(f\"El percentil 80 de la columna loan_percent_income es: {dataset['loan_percent_income'].quantile(0.8)}\")"
   ]
  },
  {
   "cell_type": "code",
   "execution_count": 40,
   "metadata": {},
   "outputs": [
    {
     "name": "stdout",
     "output_type": "stream",
     "text": [
      "El percentil 80 de la columna cb_person_default_on_file es: N\n"
     ]
    }
   ],
   "source": [
    "# El percentil 80 de cb_person_default_on_file\n",
    "\n",
    "frecuencia = dataset['cb_person_default_on_file'].value_counts().reset_index().sort_values(by='count')\n",
    "\n",
    "print(f\"El percentil 80 de la columna cb_person_default_on_file es: {frecuencia.iloc[int(0.8 * len(frecuencia)), 0]}\")"
   ]
  },
  {
   "cell_type": "code",
   "execution_count": 41,
   "metadata": {},
   "outputs": [
    {
     "name": "stdout",
     "output_type": "stream",
     "text": [
      "El percentil 80 de la columna cb_person_cred_hist_length es: 9.0\n"
     ]
    }
   ],
   "source": [
    "# El percentil 80 de cb_person_cred_hist_length\n",
    "\n",
    "print(f\"El percentil 80 de la columna cb_person_cred_hist_length es: {dataset['cb_person_cred_hist_length'].quantile(0.8)}\")"
   ]
  }
 ],
 "metadata": {
  "kernelspec": {
   "display_name": "env",
   "language": "python",
   "name": "python3"
  },
  "language_info": {
   "codemirror_mode": {
    "name": "ipython",
    "version": 3
   },
   "file_extension": ".py",
   "mimetype": "text/x-python",
   "name": "python",
   "nbconvert_exporter": "python",
   "pygments_lexer": "ipython3",
   "version": "3.10.0"
  }
 },
 "nbformat": 4,
 "nbformat_minor": 2
}
