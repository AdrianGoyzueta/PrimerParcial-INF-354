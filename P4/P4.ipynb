{
 "cells": [
  {
   "cell_type": "code",
   "execution_count": 11,
   "metadata": {},
   "outputs": [
    {
     "name": "stdout",
     "output_type": "stream",
     "text": [
      "Abuelos de Adrian: ('David', 'Arturo')\n",
      "Abuelas de Adrian: ('Teresa G', 'Teresa C')\n",
      "Hermanos de Adrian: {'Gisela', 'Matheo'}\n",
      "Tios de Adrian: {'Horacio', 'Daniel', 'Carla', 'Gonzalo', 'Jorge', 'Omar', 'Chaly'}\n",
      "Primos de Adrian: {'Adriana', 'Gustabo', 'Luciana', 'Marco', 'Natalia', 'Gabriel', 'Alejandro', 'Camila', 'Cecilia', 'Marcelo', 'Gianina'}\n",
      "Tios de Adrian: {'Carla', 'Gonzalo', 'Jorge', 'Omar', 'Claudia T', 'Rosmery', 'Miriam', 'Chaly', 'Raquel', 'Samy'}\n"
     ]
    }
   ],
   "source": [
    "from kanren import Relation, facts, run, conde, var, eq\n",
    "from kanren.constraints import neq\n",
    "\n",
    "familia = [\n",
    "  (\"David\", \"Gonzalo\"), (\"Teresa G\", \"Gonzalo\"),\n",
    "  (\"David\", \"Abel\"), (\"Teresa G\", \"Abel\"),\n",
    "  (\"David\", \"Chaly\"), (\"Teresa G\", \"Chaly\"),\n",
    "  (\"David\", \"Omar\"), (\"Teresa G\", \"Omar\"),\n",
    "  (\"David\", \"Carla\"), (\"Teresa G\", \"Carla\"),\n",
    "  (\"Gonzalo\", \"Gustabo\"), (\"Miriam\", \"Gustabo\"),\n",
    "  (\"Gonzalo\", \"Marcelo\"), (\"Miriam\", \"Marcelo\"),\n",
    "  (\"Gonzalo\", \"Marco\"), (\"Miriam\", \"Marco\"),\n",
    "  (\"Abel\", \"Gisela\"), (\"Claudia M\", \"Gisela\"),\n",
    "  (\"Abel\", \"Adrian\"), (\"Claudia M\", \"Adrian\"),\n",
    "  (\"Abel\", \"Matheo\"), (\"Claudia M\", \"Matheo\"),\n",
    "  (\"Chaly\", \"Gianina\"), (\"Rosmery\", \"Gianina\"),\n",
    "  (\"Omar\", \"Alejandro\"), (\"Claudia T\", \"Alejandro\"),\n",
    "  (\"Omar\", \"Gabriel\"), (\"Claudia T\", \"Gabriel\"),\n",
    "  (\"Carla\", \"Cecilia\"), (\"Samy\", \"Cecilia\"),\n",
    "  (\"Carla\", \"Camila\"), (\"Samy\", \"Camila\"),\n",
    "  (\"Arturo\", \"Horacio\"), (\"Teresa C\", \"Horacio\"),\n",
    "  (\"Arturo\", \"Claudia M\"), (\"Teresa C\", \"Claudia M\"),\n",
    "  (\"Arturo\", \"Jorge\"), (\"Ana Maria\", \"Jorge\"),\n",
    "  (\"Arturo\", \"Daniel\"), (\"Ana Maria\", \"Daniel\"),\n",
    "  (\"Jorge\", \"Luciana\"), (\"Raquel\", \"Luciana\"),\n",
    "  (\"Jorge\", \"Adriana\"), (\"Raquel\", \"Adriana\"),\n",
    "  (\"Jorge\", \"Natalia\"), (\"Raquel\", \"Natalia\"),\n",
    "]\n",
    "\n",
    "papa = Relation()\n",
    "mama = Relation()\n",
    "\n",
    "facts(papa, *familia[::2])\n",
    "facts(mama, *familia[1::2])\n",
    "\n",
    "def abuelos(abuelo, nieto):\n",
    "  padre = var()\n",
    "  return conde((papa(abuelo, padre), papa(padre, nieto)), (papa(abuelo, padre), mama(padre, nieto)))\n",
    "\n",
    "\n",
    "def abuelas(abuela, nieto):\n",
    "  padre = var()\n",
    "  return conde((mama(abuela, padre), papa(padre, nieto)), (mama(abuela, padre), mama(padre, nieto)))\n",
    "\n",
    "\n",
    "def hermanos(hermano, hijo):\n",
    "  padre = var()\n",
    "  return conde((papa(padre, hermano), papa(padre, hijo), neq(hermano, hijo)), (mama(padre, hermano), mama(padre, hijo), neq(hermano, hijo)))\n",
    "\n",
    "\n",
    "def tios(tio, sobrino):\n",
    "  padre = var()\n",
    "  return conde((hermanos(padre, tio), papa(padre, sobrino)), (hermanos(padre, tio), mama(padre, sobrino)))\n",
    "\n",
    "\n",
    "def primos(primo, hijo):\n",
    "  padre = var()\n",
    "  return conde((tios(padre, primo), papa(padre, hijo)), (tios(padre, primo), mama(padre, hijo)))\n",
    "\n",
    "def tios2(tio, sobrino):\n",
    "  primo = var()\n",
    "  return conde((papa(tio, primo), primos(primo, sobrino)), (mama(tio, primo), primos(primo, sobrino)))\n",
    "\n",
    "x = var()\n",
    "print(\"Abuelos de Adrian:\", run(0, x, abuelos(x, \"Adrian\")))\n",
    "print(\"Abuelas de Adrian:\", run(0, x, abuelas(x, \"Adrian\")))\n",
    "print(\"Hermanos de Adrian:\", set(run(0, x, hermanos(x, \"Adrian\"))))\n",
    "print(\"Tios de Adrian:\", set(run(0, x, tios(x, \"Adrian\"))))\n",
    "print(\"Primos de Adrian:\", set(run(0, x, primos(x, \"Adrian\"))))\n",
    "print(\"Tios de Adrian:\", set(run(0, x, tios2(x, \"Adrian\"))))\n"
   ]
  }
 ],
 "metadata": {
  "kernelspec": {
   "display_name": "env",
   "language": "python",
   "name": "python3"
  },
  "language_info": {
   "codemirror_mode": {
    "name": "ipython",
    "version": 3
   },
   "file_extension": ".py",
   "mimetype": "text/x-python",
   "name": "python",
   "nbconvert_exporter": "python",
   "pygments_lexer": "ipython3",
   "version": "3.10.0"
  }
 },
 "nbformat": 4,
 "nbformat_minor": 2
}
